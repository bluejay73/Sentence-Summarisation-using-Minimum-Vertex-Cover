{
 "cells": [
  {
   "cell_type": "code",
   "execution_count": 1,
   "metadata": {},
   "outputs": [],
   "source": [
    "import nltk\n",
    "import numpy as np\n",
    "import nltk\n",
    "import numpy as np\n",
    "from rake_nltk import Rake\n",
    "r=Rake()\n",
    "sw=[]\n",
    "from nltk.corpus import stopwords\n",
    "sw=set(stopwords.words('english'))"
   ]
  },
  {
   "cell_type": "code",
   "execution_count": 2,
   "metadata": {},
   "outputs": [],
   "source": [
    "doc=[]\n",
    "with open('text1','r') as f:\n",
    "    for line in f:\n",
    "        doc.append(line)\n",
    "        "
   ]
  },
  {
   "cell_type": "code",
   "execution_count": 3,
   "metadata": {},
   "outputs": [],
   "source": [
    "from nltk import sent_tokenize\n",
    "f=open(\"text1\", \"r\")\n",
    "doc=f.read()\n",
    "doc=sent_tokenize(doc.decode('utf-8'))"
   ]
  },
  {
   "cell_type": "code",
   "execution_count": 4,
   "metadata": {},
   "outputs": [
    {
     "data": {
      "text/plain": [
       "[u'Indian Institute of Information Technology Manipur (IIITM) is an institution under MHRD, Govt.',\n",
       " u'of India.',\n",
       " u'IIITM was established in 2015 in order to develop Manipur as preferred destination for Information Technology (IT) related manpower and industry.',\n",
       " u'This shall enable Manipur to gear up for providing IT related services as well as high-quality Research & Development in IT.',\n",
       " u'IIITM offers B Tech programmes in two disciplines, Computer Science and Engineering (CSE) and Electronics and Communication Engineering (ECE) from its transit campus located at Mantripukhri, Opposite of Software Technology Park, Near CRPF Camp in Imphal.',\n",
       " u'The campus holds classrooms, labs, faculty rooms, seminar hall, play ground, faculty quarters, guest house and administrative offices.',\n",
       " u'IIITM permanent campus will come up at Ningthoupham village, Mayangkhang, Senapati district of Manipur.',\n",
       " u'IIITM is one of the 20 IIITs set up by the Central Govt.',\n",
       " u'in PPP mode.',\n",
       " u'A Bill (Act of Parliament) to declare all the PPP-IIITs (including IIITM) as Institutes of National Importance has been placed before the Lok Sabha.',\n",
       " u'IIITM strives to be attentive to academic needs of every student.',\n",
       " u'Classes are conveniently scheduled between 8 A.M. to 4:30 P. M. Every class room is well maintained and has projection facilities.',\n",
       " u'An Institute-wide wi-fi system provides Internet access throughout the Institute.',\n",
       " u'IIITM is mentored by IIT Guwahati, Interim Director Prof. Amarendra Kumar Das is actively working and the transit complex is provided with all required infrastructure for overall development of the institute.',\n",
       " u'IIITM is also looking for private/industry partner for the institute.',\n",
       " u'It is also mandated to start Design and Manufacturing disciplines to positively contribute to Govt.',\n",
       " u'of India mission of Act East and creating manufacturing hub in South East Asia.',\n",
       " u'To contribute to Human Resource development of its neighboring countries, IIITM will be looking for opportunities to spread IT education to Myanmar by providing required facilities to students of that country to study in IIITM through bi-lateral agreements.']"
      ]
     },
     "execution_count": 4,
     "metadata": {},
     "output_type": "execute_result"
    }
   ],
   "source": [
    "doc"
   ]
  },
  {
   "cell_type": "code",
   "execution_count": 5,
   "metadata": {},
   "outputs": [
    {
     "data": {
      "text/plain": [
       "list"
      ]
     },
     "execution_count": 5,
     "metadata": {},
     "output_type": "execute_result"
    }
   ],
   "source": [
    "type(doc)"
   ]
  },
  {
   "cell_type": "code",
   "execution_count": 6,
   "metadata": {},
   "outputs": [],
   "source": [
    "import RAKE"
   ]
  },
  {
   "cell_type": "code",
   "execution_count": 7,
   "metadata": {},
   "outputs": [
    {
     "data": {
      "text/plain": [
       "[u'Indian Institute of Information Technology Manipur (IIITM) is an institution under MHRD, Govt.',\n",
       " u'of India.',\n",
       " u'IIITM was established in 2015 in order to develop Manipur as preferred destination for Information Technology (IT) related manpower and industry.',\n",
       " u'This shall enable Manipur to gear up for providing IT related services as well as high-quality Research & Development in IT.',\n",
       " u'IIITM offers B Tech programmes in two disciplines, Computer Science and Engineering (CSE) and Electronics and Communication Engineering (ECE) from its transit campus located at Mantripukhri, Opposite of Software Technology Park, Near CRPF Camp in Imphal.',\n",
       " u'The campus holds classrooms, labs, faculty rooms, seminar hall, play ground, faculty quarters, guest house and administrative offices.',\n",
       " u'IIITM permanent campus will come up at Ningthoupham village, Mayangkhang, Senapati district of Manipur.',\n",
       " u'IIITM is one of the 20 IIITs set up by the Central Govt.',\n",
       " u'in PPP mode.',\n",
       " u'A Bill (Act of Parliament) to declare all the PPP-IIITs (including IIITM) as Institutes of National Importance has been placed before the Lok Sabha.',\n",
       " u'IIITM strives to be attentive to academic needs of every student.',\n",
       " u'Classes are conveniently scheduled between 8 A.M. to 4:30 P. M. Every class room is well maintained and has projection facilities.',\n",
       " u'An Institute-wide wi-fi system provides Internet access throughout the Institute.',\n",
       " u'IIITM is mentored by IIT Guwahati, Interim Director Prof. Amarendra Kumar Das is actively working and the transit complex is provided with all required infrastructure for overall development of the institute.',\n",
       " u'IIITM is also looking for private/industry partner for the institute.',\n",
       " u'It is also mandated to start Design and Manufacturing disciplines to positively contribute to Govt.',\n",
       " u'of India mission of Act East and creating manufacturing hub in South East Asia.',\n",
       " u'To contribute to Human Resource development of its neighboring countries, IIITM will be looking for opportunities to spread IT education to Myanmar by providing required facilities to students of that country to study in IIITM through bi-lateral agreements.']"
      ]
     },
     "execution_count": 7,
     "metadata": {},
     "output_type": "execute_result"
    }
   ],
   "source": [
    "doc"
   ]
  },
  {
   "cell_type": "code",
   "execution_count": 8,
   "metadata": {},
   "outputs": [
    {
     "data": {
      "text/plain": [
       "{u'a',\n",
       " u'about',\n",
       " u'above',\n",
       " u'after',\n",
       " u'again',\n",
       " u'against',\n",
       " u'ain',\n",
       " u'all',\n",
       " u'am',\n",
       " u'an',\n",
       " u'and',\n",
       " u'any',\n",
       " u'are',\n",
       " u'aren',\n",
       " u\"aren't\",\n",
       " u'as',\n",
       " u'at',\n",
       " u'be',\n",
       " u'because',\n",
       " u'been',\n",
       " u'before',\n",
       " u'being',\n",
       " u'below',\n",
       " u'between',\n",
       " u'both',\n",
       " u'but',\n",
       " u'by',\n",
       " u'can',\n",
       " u'couldn',\n",
       " u\"couldn't\",\n",
       " u'd',\n",
       " u'did',\n",
       " u'didn',\n",
       " u\"didn't\",\n",
       " u'do',\n",
       " u'does',\n",
       " u'doesn',\n",
       " u\"doesn't\",\n",
       " u'doing',\n",
       " u'don',\n",
       " u\"don't\",\n",
       " u'down',\n",
       " u'during',\n",
       " u'each',\n",
       " u'few',\n",
       " u'for',\n",
       " u'from',\n",
       " u'further',\n",
       " u'had',\n",
       " u'hadn',\n",
       " u\"hadn't\",\n",
       " u'has',\n",
       " u'hasn',\n",
       " u\"hasn't\",\n",
       " u'have',\n",
       " u'haven',\n",
       " u\"haven't\",\n",
       " u'having',\n",
       " u'he',\n",
       " u'her',\n",
       " u'here',\n",
       " u'hers',\n",
       " u'herself',\n",
       " u'him',\n",
       " u'himself',\n",
       " u'his',\n",
       " u'how',\n",
       " u'i',\n",
       " u'if',\n",
       " u'in',\n",
       " u'into',\n",
       " u'is',\n",
       " u'isn',\n",
       " u\"isn't\",\n",
       " u'it',\n",
       " u\"it's\",\n",
       " u'its',\n",
       " u'itself',\n",
       " u'just',\n",
       " u'll',\n",
       " u'm',\n",
       " u'ma',\n",
       " u'me',\n",
       " u'mightn',\n",
       " u\"mightn't\",\n",
       " u'more',\n",
       " u'most',\n",
       " u'mustn',\n",
       " u\"mustn't\",\n",
       " u'my',\n",
       " u'myself',\n",
       " u'needn',\n",
       " u\"needn't\",\n",
       " u'no',\n",
       " u'nor',\n",
       " u'not',\n",
       " u'now',\n",
       " u'o',\n",
       " u'of',\n",
       " u'off',\n",
       " u'on',\n",
       " u'once',\n",
       " u'only',\n",
       " u'or',\n",
       " u'other',\n",
       " u'our',\n",
       " u'ours',\n",
       " u'ourselves',\n",
       " u'out',\n",
       " u'over',\n",
       " u'own',\n",
       " u're',\n",
       " u's',\n",
       " u'same',\n",
       " u'shan',\n",
       " u\"shan't\",\n",
       " u'she',\n",
       " u\"she's\",\n",
       " u'should',\n",
       " u\"should've\",\n",
       " u'shouldn',\n",
       " u\"shouldn't\",\n",
       " u'so',\n",
       " u'some',\n",
       " u'such',\n",
       " u't',\n",
       " u'than',\n",
       " u'that',\n",
       " u\"that'll\",\n",
       " u'the',\n",
       " u'their',\n",
       " u'theirs',\n",
       " u'them',\n",
       " u'themselves',\n",
       " u'then',\n",
       " u'there',\n",
       " u'these',\n",
       " u'they',\n",
       " u'this',\n",
       " u'those',\n",
       " u'through',\n",
       " u'to',\n",
       " u'too',\n",
       " u'under',\n",
       " u'until',\n",
       " u'up',\n",
       " u've',\n",
       " u'very',\n",
       " u'was',\n",
       " u'wasn',\n",
       " u\"wasn't\",\n",
       " u'we',\n",
       " u'were',\n",
       " u'weren',\n",
       " u\"weren't\",\n",
       " u'what',\n",
       " u'when',\n",
       " u'where',\n",
       " u'which',\n",
       " u'while',\n",
       " u'who',\n",
       " u'whom',\n",
       " u'why',\n",
       " u'will',\n",
       " u'with',\n",
       " u'won',\n",
       " u\"won't\",\n",
       " u'wouldn',\n",
       " u\"wouldn't\",\n",
       " u'y',\n",
       " u'you',\n",
       " u\"you'd\",\n",
       " u\"you'll\",\n",
       " u\"you're\",\n",
       " u\"you've\",\n",
       " u'your',\n",
       " u'yours',\n",
       " u'yourself',\n",
       " u'yourselves'}"
      ]
     },
     "execution_count": 8,
     "metadata": {},
     "output_type": "execute_result"
    }
   ],
   "source": [
    "sw"
   ]
  },
  {
   "cell_type": "code",
   "execution_count": 9,
   "metadata": {},
   "outputs": [],
   "source": [
    "kwn=[]\n",
    "kw=[]\n",
    "\n",
    "for sen in doc:\n",
    "    Rake = RAKE.Rake(RAKE.SmartStopList())\n",
    "    r.extract_keywords_from_text(sen)\n",
    "    b=r.get_ranked_phrases()\n",
    "    kw.append(b)\n",
    "    kwn.append(len(b))\n",
    "    "
   ]
  },
  {
   "cell_type": "code",
   "execution_count": 10,
   "metadata": {},
   "outputs": [
    {
     "data": {
      "text/plain": [
       "[[u'information technology manipur',\n",
       "  u'indian institute',\n",
       "  u'mhrd',\n",
       "  u'institution',\n",
       "  u'iiitm',\n",
       "  u'govt'],\n",
       " [u'india'],\n",
       " [u'related manpower',\n",
       "  u'preferred destination',\n",
       "  u'information technology',\n",
       "  u'develop manipur',\n",
       "  u'order',\n",
       "  u'industry',\n",
       "  u'iiitm',\n",
       "  u'established',\n",
       "  u'2015'],\n",
       " [u'shall enable manipur',\n",
       "  u'related services',\n",
       "  u'quality research',\n",
       "  u'well',\n",
       "  u'providing',\n",
       "  u'high',\n",
       "  u'gear',\n",
       "  u'development'],\n",
       " [u'iiitm offers b tech programmes',\n",
       "  u'transit campus located',\n",
       "  u'software technology park',\n",
       "  u'near crpf camp',\n",
       "  u'two disciplines',\n",
       "  u'computer science',\n",
       "  u'communication engineering',\n",
       "  u'engineering',\n",
       "  u'opposite',\n",
       "  u'mantripukhri',\n",
       "  u'imphal',\n",
       "  u'electronics',\n",
       "  u'ece',\n",
       "  u'cse'],\n",
       " [u'campus holds classrooms',\n",
       "  u'seminar hall',\n",
       "  u'play ground',\n",
       "  u'guest house',\n",
       "  u'faculty rooms',\n",
       "  u'faculty quarters',\n",
       "  u'administrative offices',\n",
       "  u'labs'],\n",
       " [u'iiitm permanent campus',\n",
       "  u'senapati district',\n",
       "  u'ningthoupham village',\n",
       "  u'mayangkhang',\n",
       "  u'manipur',\n",
       "  u'come'],\n",
       " [u'20 iiits set', u'central govt', u'one', u'iiitm'],\n",
       " [u'ppp mode'],\n",
       " [u'national importance',\n",
       "  u'lok sabha',\n",
       "  u'including iiitm',\n",
       "  u'ppp',\n",
       "  u'placed',\n",
       "  u'parliament',\n",
       "  u'institutes',\n",
       "  u'iiits',\n",
       "  u'declare',\n",
       "  u'bill',\n",
       "  u'act'],\n",
       " [u'iiitm strives', u'every student', u'academic needs', u'attentive'],\n",
       " [u'every class room',\n",
       "  u'well maintained',\n",
       "  u'projection facilities',\n",
       "  u'conveniently scheduled',\n",
       "  u'30 p',\n",
       "  u'classes',\n",
       "  u'8',\n",
       "  u'4'],\n",
       " [u'fi system provides internet access throughout', u'wide wi', u'institute'],\n",
       " [u'interim director prof',\n",
       "  u'amarendra kumar das',\n",
       "  u'transit complex',\n",
       "  u'required infrastructure',\n",
       "  u'overall development',\n",
       "  u'iit guwahati',\n",
       "  u'actively working',\n",
       "  u'provided',\n",
       "  u'mentored',\n",
       "  u'institute',\n",
       "  u'iiitm'],\n",
       " [u'industry partner', u'also looking', u'private', u'institute', u'iiitm'],\n",
       " [u'start design',\n",
       "  u'positively contribute',\n",
       "  u'manufacturing disciplines',\n",
       "  u'also mandated',\n",
       "  u'govt'],\n",
       " [u'creating manufacturing hub',\n",
       "  u'south east asia',\n",
       "  u'act east',\n",
       "  u'india mission'],\n",
       " [u'providing required facilities',\n",
       "  u'human resource development',\n",
       "  u'neighboring countries',\n",
       "  u'lateral agreements',\n",
       "  u'study',\n",
       "  u'students',\n",
       "  u'spread',\n",
       "  u'opportunities',\n",
       "  u'myanmar',\n",
       "  u'looking',\n",
       "  u'iiitm',\n",
       "  u'education',\n",
       "  u'country',\n",
       "  u'contribute',\n",
       "  u'bi']]"
      ]
     },
     "execution_count": 10,
     "metadata": {},
     "output_type": "execute_result"
    }
   ],
   "source": [
    "kw"
   ]
  },
  {
   "cell_type": "code",
   "execution_count": 11,
   "metadata": {},
   "outputs": [
    {
     "data": {
      "text/plain": [
       "[6, 1, 9, 8, 14, 8, 6, 4, 1, 11, 4, 8, 3, 11, 5, 5, 4, 15]"
      ]
     },
     "execution_count": 11,
     "metadata": {},
     "output_type": "execute_result"
    }
   ],
   "source": [
    "kwn"
   ]
  },
  {
   "cell_type": "code",
   "execution_count": 12,
   "metadata": {},
   "outputs": [
    {
     "data": {
      "text/plain": [
       "[[u'information technology manipur',\n",
       "  u'indian institute',\n",
       "  u'mhrd',\n",
       "  u'institution',\n",
       "  u'iiitm',\n",
       "  u'govt'],\n",
       " [u'india'],\n",
       " [u'related manpower',\n",
       "  u'preferred destination',\n",
       "  u'information technology',\n",
       "  u'develop manipur',\n",
       "  u'order',\n",
       "  u'industry',\n",
       "  u'iiitm',\n",
       "  u'established',\n",
       "  u'2015'],\n",
       " [u'shall enable manipur',\n",
       "  u'related services',\n",
       "  u'quality research',\n",
       "  u'well',\n",
       "  u'providing',\n",
       "  u'high',\n",
       "  u'gear',\n",
       "  u'development'],\n",
       " [u'iiitm offers b tech programmes',\n",
       "  u'transit campus located',\n",
       "  u'software technology park',\n",
       "  u'near crpf camp',\n",
       "  u'two disciplines',\n",
       "  u'computer science',\n",
       "  u'communication engineering',\n",
       "  u'engineering',\n",
       "  u'opposite',\n",
       "  u'mantripukhri',\n",
       "  u'imphal',\n",
       "  u'electronics',\n",
       "  u'ece',\n",
       "  u'cse'],\n",
       " [u'campus holds classrooms',\n",
       "  u'seminar hall',\n",
       "  u'play ground',\n",
       "  u'guest house',\n",
       "  u'faculty rooms',\n",
       "  u'faculty quarters',\n",
       "  u'administrative offices',\n",
       "  u'labs'],\n",
       " [u'iiitm permanent campus',\n",
       "  u'senapati district',\n",
       "  u'ningthoupham village',\n",
       "  u'mayangkhang',\n",
       "  u'manipur',\n",
       "  u'come'],\n",
       " [u'20 iiits set', u'central govt', u'one', u'iiitm'],\n",
       " [u'ppp mode'],\n",
       " [u'national importance',\n",
       "  u'lok sabha',\n",
       "  u'including iiitm',\n",
       "  u'ppp',\n",
       "  u'placed',\n",
       "  u'parliament',\n",
       "  u'institutes',\n",
       "  u'iiits',\n",
       "  u'declare',\n",
       "  u'bill',\n",
       "  u'act'],\n",
       " [u'iiitm strives', u'every student', u'academic needs', u'attentive'],\n",
       " [u'every class room',\n",
       "  u'well maintained',\n",
       "  u'projection facilities',\n",
       "  u'conveniently scheduled',\n",
       "  u'30 p',\n",
       "  u'classes',\n",
       "  u'8',\n",
       "  u'4'],\n",
       " [u'fi system provides internet access throughout', u'wide wi', u'institute'],\n",
       " [u'interim director prof',\n",
       "  u'amarendra kumar das',\n",
       "  u'transit complex',\n",
       "  u'required infrastructure',\n",
       "  u'overall development',\n",
       "  u'iit guwahati',\n",
       "  u'actively working',\n",
       "  u'provided',\n",
       "  u'mentored',\n",
       "  u'institute',\n",
       "  u'iiitm'],\n",
       " [u'industry partner', u'also looking', u'private', u'institute', u'iiitm'],\n",
       " [u'start design',\n",
       "  u'positively contribute',\n",
       "  u'manufacturing disciplines',\n",
       "  u'also mandated',\n",
       "  u'govt'],\n",
       " [u'creating manufacturing hub',\n",
       "  u'south east asia',\n",
       "  u'act east',\n",
       "  u'india mission'],\n",
       " [u'providing required facilities',\n",
       "  u'human resource development',\n",
       "  u'neighboring countries',\n",
       "  u'lateral agreements',\n",
       "  u'study',\n",
       "  u'students',\n",
       "  u'spread',\n",
       "  u'opportunities',\n",
       "  u'myanmar',\n",
       "  u'looking',\n",
       "  u'iiitm',\n",
       "  u'education',\n",
       "  u'country',\n",
       "  u'contribute',\n",
       "  u'bi']]"
      ]
     },
     "execution_count": 12,
     "metadata": {},
     "output_type": "execute_result"
    }
   ],
   "source": [
    "kw"
   ]
  },
  {
   "cell_type": "code",
   "execution_count": 13,
   "metadata": {},
   "outputs": [],
   "source": [
    "keyw=kw"
   ]
  },
  {
   "cell_type": "code",
   "execution_count": 14,
   "metadata": {},
   "outputs": [],
   "source": [
    "mat=[]\n",
    "x=[]\n",
    "for i in range(len(doc)):\n",
    "    x=[]\n",
    "    for j in range(len(doc)):\n",
    "        x.append(0)\n",
    "    mat.append(x)"
   ]
  },
  {
   "cell_type": "code",
   "execution_count": 15,
   "metadata": {},
   "outputs": [
    {
     "data": {
      "text/plain": [
       "(18, 18)"
      ]
     },
     "execution_count": 15,
     "metadata": {},
     "output_type": "execute_result"
    }
   ],
   "source": [
    "np.shape(mat)"
   ]
  },
  {
   "cell_type": "code",
   "execution_count": 16,
   "metadata": {},
   "outputs": [],
   "source": [
    "\n",
    "for i in range(len(keyw)):\n",
    "    flag=0\n",
    "    x=[]\n",
    "    for j in range(len(keyw[i])):\n",
    "        for k in range(len(keyw)):\n",
    "            if keyw[i][j] in keyw[k] and i!=k:\n",
    "                mat[i][k]=1\n",
    "        \n",
    "        "
   ]
  },
  {
   "cell_type": "code",
   "execution_count": 17,
   "metadata": {},
   "outputs": [
    {
     "data": {
      "text/plain": [
       "[[0, 0, 1, 0, 0, 0, 0, 1, 0, 0, 0, 0, 0, 1, 1, 1, 0, 1],\n",
       " [0, 0, 0, 0, 0, 0, 0, 0, 0, 0, 0, 0, 0, 0, 0, 0, 0, 0],\n",
       " [1, 0, 0, 0, 0, 0, 0, 1, 0, 0, 0, 0, 0, 1, 1, 0, 0, 1],\n",
       " [0, 0, 0, 0, 0, 0, 0, 0, 0, 0, 0, 0, 0, 0, 0, 0, 0, 0],\n",
       " [0, 0, 0, 0, 0, 0, 0, 0, 0, 0, 0, 0, 0, 0, 0, 0, 0, 0],\n",
       " [0, 0, 0, 0, 0, 0, 0, 0, 0, 0, 0, 0, 0, 0, 0, 0, 0, 0],\n",
       " [0, 0, 0, 0, 0, 0, 0, 0, 0, 0, 0, 0, 0, 0, 0, 0, 0, 0],\n",
       " [1, 0, 1, 0, 0, 0, 0, 0, 0, 0, 0, 0, 0, 1, 1, 0, 0, 1],\n",
       " [0, 0, 0, 0, 0, 0, 0, 0, 0, 0, 0, 0, 0, 0, 0, 0, 0, 0],\n",
       " [0, 0, 0, 0, 0, 0, 0, 0, 0, 0, 0, 0, 0, 0, 0, 0, 0, 0],\n",
       " [0, 0, 0, 0, 0, 0, 0, 0, 0, 0, 0, 0, 0, 0, 0, 0, 0, 0],\n",
       " [0, 0, 0, 0, 0, 0, 0, 0, 0, 0, 0, 0, 0, 0, 0, 0, 0, 0],\n",
       " [0, 0, 0, 0, 0, 0, 0, 0, 0, 0, 0, 0, 0, 1, 1, 0, 0, 0],\n",
       " [1, 0, 1, 0, 0, 0, 0, 1, 0, 0, 0, 0, 1, 0, 1, 0, 0, 1],\n",
       " [1, 0, 1, 0, 0, 0, 0, 1, 0, 0, 0, 0, 1, 1, 0, 0, 0, 1],\n",
       " [1, 0, 0, 0, 0, 0, 0, 0, 0, 0, 0, 0, 0, 0, 0, 0, 0, 0],\n",
       " [0, 0, 0, 0, 0, 0, 0, 0, 0, 0, 0, 0, 0, 0, 0, 0, 0, 0],\n",
       " [1, 0, 1, 0, 0, 0, 0, 1, 0, 0, 0, 0, 0, 1, 1, 0, 0, 0]]"
      ]
     },
     "execution_count": 17,
     "metadata": {},
     "output_type": "execute_result"
    }
   ],
   "source": [
    "mat"
   ]
  },
  {
   "cell_type": "code",
   "execution_count": 18,
   "metadata": {},
   "outputs": [],
   "source": [
    "graph=dict()\n",
    "for i in range(len(doc)):\n",
    "    graph.setdefault(i,[])\n",
    "    "
   ]
  },
  {
   "cell_type": "code",
   "execution_count": 19,
   "metadata": {},
   "outputs": [],
   "source": [
    "for key in graph:\n",
    "    if key==0:\n",
    "        graph[key].append(len(doc)-1)\n",
    "    else:\n",
    "        graph[key].append(key-1)\n",
    "    if key==len(doc)-1:\n",
    "        graph[key].append(0)\n",
    "    else:\n",
    "        graph[key].append(key+1)\n",
    "    "
   ]
  },
  {
   "cell_type": "code",
   "execution_count": 20,
   "metadata": {},
   "outputs": [
    {
     "data": {
      "text/plain": [
       "{0: [17, 1],\n",
       " 1: [0, 2],\n",
       " 2: [1, 3],\n",
       " 3: [2, 4],\n",
       " 4: [3, 5],\n",
       " 5: [4, 6],\n",
       " 6: [5, 7],\n",
       " 7: [6, 8],\n",
       " 8: [7, 9],\n",
       " 9: [8, 10],\n",
       " 10: [9, 11],\n",
       " 11: [10, 12],\n",
       " 12: [11, 13],\n",
       " 13: [12, 14],\n",
       " 14: [13, 15],\n",
       " 15: [14, 16],\n",
       " 16: [15, 17],\n",
       " 17: [16, 0]}"
      ]
     },
     "execution_count": 20,
     "metadata": {},
     "output_type": "execute_result"
    }
   ],
   "source": [
    "graph"
   ]
  },
  {
   "cell_type": "code",
   "execution_count": 21,
   "metadata": {},
   "outputs": [],
   "source": [
    "for i in range(len(doc)):\n",
    "    for j in range(len(doc)):\n",
    "        if mat[i][j]==1 and j not in graph[i] and i!=j:\n",
    "            graph[i].append(j)"
   ]
  },
  {
   "cell_type": "code",
   "execution_count": 22,
   "metadata": {},
   "outputs": [
    {
     "data": {
      "text/plain": [
       "{0: [17, 1, 2, 7, 13, 14, 15],\n",
       " 1: [0, 2],\n",
       " 2: [1, 3, 0, 7, 13, 14, 17],\n",
       " 3: [2, 4],\n",
       " 4: [3, 5],\n",
       " 5: [4, 6],\n",
       " 6: [5, 7],\n",
       " 7: [6, 8, 0, 2, 13, 14, 17],\n",
       " 8: [7, 9],\n",
       " 9: [8, 10],\n",
       " 10: [9, 11],\n",
       " 11: [10, 12],\n",
       " 12: [11, 13, 14],\n",
       " 13: [12, 14, 0, 2, 7, 17],\n",
       " 14: [13, 15, 0, 2, 7, 12, 17],\n",
       " 15: [14, 16, 0],\n",
       " 16: [15, 17],\n",
       " 17: [16, 0, 2, 7, 13, 14]}"
      ]
     },
     "execution_count": 22,
     "metadata": {},
     "output_type": "execute_result"
    }
   ],
   "source": [
    "graph"
   ]
  },
  {
   "cell_type": "code",
   "execution_count": 23,
   "metadata": {},
   "outputs": [],
   "source": [
    "fmat=[]\n",
    "for i in range(len(doc)):\n",
    "    x=[]\n",
    "    for j in range(len(doc)):\n",
    "        x.append(0)\n",
    "    fmat.append(x)\n",
    "            "
   ]
  },
  {
   "cell_type": "code",
   "execution_count": 24,
   "metadata": {},
   "outputs": [
    {
     "data": {
      "text/plain": [
       "(18, 18)"
      ]
     },
     "execution_count": 24,
     "metadata": {},
     "output_type": "execute_result"
    }
   ],
   "source": [
    "np.shape(fmat)"
   ]
  },
  {
   "cell_type": "code",
   "execution_count": 25,
   "metadata": {},
   "outputs": [],
   "source": [
    "for i in range(len(doc)):\n",
    "    for j in range(len(graph[i])):\n",
    "        fmat[i][graph[i][j]]=1"
   ]
  },
  {
   "cell_type": "code",
   "execution_count": 26,
   "metadata": {
    "scrolled": true
   },
   "outputs": [
    {
     "data": {
      "text/plain": [
       "[[0, 1, 1, 0, 0, 0, 0, 1, 0, 0, 0, 0, 0, 1, 1, 1, 0, 1],\n",
       " [1, 0, 1, 0, 0, 0, 0, 0, 0, 0, 0, 0, 0, 0, 0, 0, 0, 0],\n",
       " [1, 1, 0, 1, 0, 0, 0, 1, 0, 0, 0, 0, 0, 1, 1, 0, 0, 1],\n",
       " [0, 0, 1, 0, 1, 0, 0, 0, 0, 0, 0, 0, 0, 0, 0, 0, 0, 0],\n",
       " [0, 0, 0, 1, 0, 1, 0, 0, 0, 0, 0, 0, 0, 0, 0, 0, 0, 0],\n",
       " [0, 0, 0, 0, 1, 0, 1, 0, 0, 0, 0, 0, 0, 0, 0, 0, 0, 0],\n",
       " [0, 0, 0, 0, 0, 1, 0, 1, 0, 0, 0, 0, 0, 0, 0, 0, 0, 0],\n",
       " [1, 0, 1, 0, 0, 0, 1, 0, 1, 0, 0, 0, 0, 1, 1, 0, 0, 1],\n",
       " [0, 0, 0, 0, 0, 0, 0, 1, 0, 1, 0, 0, 0, 0, 0, 0, 0, 0],\n",
       " [0, 0, 0, 0, 0, 0, 0, 0, 1, 0, 1, 0, 0, 0, 0, 0, 0, 0],\n",
       " [0, 0, 0, 0, 0, 0, 0, 0, 0, 1, 0, 1, 0, 0, 0, 0, 0, 0],\n",
       " [0, 0, 0, 0, 0, 0, 0, 0, 0, 0, 1, 0, 1, 0, 0, 0, 0, 0],\n",
       " [0, 0, 0, 0, 0, 0, 0, 0, 0, 0, 0, 1, 0, 1, 1, 0, 0, 0],\n",
       " [1, 0, 1, 0, 0, 0, 0, 1, 0, 0, 0, 0, 1, 0, 1, 0, 0, 1],\n",
       " [1, 0, 1, 0, 0, 0, 0, 1, 0, 0, 0, 0, 1, 1, 0, 1, 0, 1],\n",
       " [1, 0, 0, 0, 0, 0, 0, 0, 0, 0, 0, 0, 0, 0, 1, 0, 1, 0],\n",
       " [0, 0, 0, 0, 0, 0, 0, 0, 0, 0, 0, 0, 0, 0, 0, 1, 0, 1],\n",
       " [1, 0, 1, 0, 0, 0, 0, 1, 0, 0, 0, 0, 0, 1, 1, 0, 1, 0]]"
      ]
     },
     "execution_count": 26,
     "metadata": {},
     "output_type": "execute_result"
    }
   ],
   "source": [
    "fmat"
   ]
  },
  {
   "cell_type": "code",
   "execution_count": 27,
   "metadata": {},
   "outputs": [],
   "source": [
    "weight=[]\n",
    "for i in range(len(graph)):\n",
    "    s=kwn[i]\n",
    "    for j in range(len(graph[i])):\n",
    "        s=s+kwn[graph[i][j]]\n",
    "    weight.append(s)"
   ]
  },
  {
   "cell_type": "code",
   "execution_count": 28,
   "metadata": {},
   "outputs": [
    {
     "data": {
      "text/plain": [
       "[56, 16, 59, 31, 30, 28, 18, 57, 16, 16, 23, 15, 27, 53, 58, 20, 24, 54]"
      ]
     },
     "execution_count": 28,
     "metadata": {},
     "output_type": "execute_result"
    }
   ],
   "source": [
    "weight"
   ]
  },
  {
   "cell_type": "code",
   "execution_count": 29,
   "metadata": {},
   "outputs": [],
   "source": [
    "degree=[]\n",
    "u=0\n",
    "for i in range(len(fmat)):\n",
    "    s=0\n",
    "    for j in range(len(fmat[i])):\n",
    "        if(fmat[i][j]==1):\n",
    "            s=s+1\n",
    "    degree.append(s)\n",
    "        "
   ]
  },
  {
   "cell_type": "code",
   "execution_count": 30,
   "metadata": {},
   "outputs": [
    {
     "data": {
      "text/plain": [
       "[7, 2, 7, 2, 2, 2, 2, 7, 2, 2, 2, 2, 3, 6, 7, 3, 2, 6]"
      ]
     },
     "execution_count": 30,
     "metadata": {},
     "output_type": "execute_result"
    }
   ],
   "source": [
    "degree"
   ]
  },
  {
   "cell_type": "code",
   "execution_count": 31,
   "metadata": {},
   "outputs": [
    {
     "name": "stdout",
     "output_type": "stream",
     "text": [
      "[0, 1, 2, 3, 4, 5, 6, 7, 8, 9, 10, 11, 12, 13, 14, 15, 16, 17]\n"
     ]
    }
   ],
   "source": [
    "temp=[]\n",
    "for i in range(len(degree)):\n",
    "    temp.append(i)\n",
    "print temp\n",
    "for i in range(len(degree)):  \n",
    "    for j in range(0, len(degree)-i-1): \n",
    "        if degree[j] < degree[j+1] : \n",
    "                degree[j], degree[j+1] = degree[j+1], degree[j] \n",
    "                temp[j], temp[j+1] = temp[j+1], temp[j]\n",
    "                weight[j], weight[j+1] = weight[j+1], weight[j]\n",
    "                "
   ]
  },
  {
   "cell_type": "code",
   "execution_count": 32,
   "metadata": {},
   "outputs": [
    {
     "data": {
      "text/plain": [
       "[0, 2, 7, 14, 13, 17, 12, 15, 1, 3, 4, 5, 6, 8, 9, 10, 11, 16]"
      ]
     },
     "execution_count": 32,
     "metadata": {},
     "output_type": "execute_result"
    }
   ],
   "source": [
    "temp"
   ]
  },
  {
   "cell_type": "code",
   "execution_count": 33,
   "metadata": {},
   "outputs": [
    {
     "data": {
      "text/plain": [
       "[56, 59, 57, 58, 53, 54, 27, 20, 16, 31, 30, 28, 18, 16, 16, 23, 15, 24]"
      ]
     },
     "execution_count": 33,
     "metadata": {},
     "output_type": "execute_result"
    }
   ],
   "source": [
    "weight"
   ]
  },
  {
   "cell_type": "code",
   "execution_count": 34,
   "metadata": {},
   "outputs": [],
   "source": [
    "def greedy_vc(input_graph):\n",
    "    # YOUR CODE HERE\n",
    "    cover = []\n",
    "    valid, num_edge = valid_cover(input_graph, cover)\n",
    "    \n",
    "    while not valid:\n",
    "        m = [x for x in range(0, len(num_edge)) if num_edge[x] == max(num_edge)][0]\n",
    "        cover.append(m)\n",
    "        valid, num_edge = valid_cover(input_graph, cover)\n",
    "        \n",
    "    return cover\n",
    "\n",
    "def valid_cover(graph, cover):\n",
    "    valid = True\n",
    "    num_edge = [0] * len(graph)\n",
    "    for i in range(0, len(graph)):\n",
    "        for j in range(i, len(graph)):\n",
    "            if graph[i][j] == 1:\n",
    "                if (i not in cover) and (j not in cover):\n",
    "                    valid = False\n",
    "                    num_edge[i] += 1\n",
    "                    num_edge[j] += 1\n",
    "    return valid, num_edge"
   ]
  },
  {
   "cell_type": "code",
   "execution_count": 35,
   "metadata": {},
   "outputs": [
    {
     "name": "stdout",
     "output_type": "stream",
     "text": [
      "[0, 2, 7, 14, 4, 9, 11, 13, 16, 5]\n"
     ]
    }
   ],
   "source": [
    "cover = greedy_vc(fmat)\n",
    "print cover"
   ]
  },
  {
   "cell_type": "code",
   "execution_count": 36,
   "metadata": {},
   "outputs": [],
   "source": [
    "cover=sorted(cover)"
   ]
  },
  {
   "cell_type": "code",
   "execution_count": 37,
   "metadata": {},
   "outputs": [
    {
     "data": {
      "text/plain": [
       "[0, 2, 4, 5, 7, 9, 11, 13, 14, 16]"
      ]
     },
     "execution_count": 37,
     "metadata": {},
     "output_type": "execute_result"
    }
   ],
   "source": [
    "cover"
   ]
  },
  {
   "cell_type": "code",
   "execution_count": 38,
   "metadata": {},
   "outputs": [
    {
     "name": "stdout",
     "output_type": "stream",
     "text": [
      "Indian Institute of Information Technology Manipur (IIITM) is an institution under MHRD, Govt.\n",
      "IIITM was established in 2015 in order to develop Manipur as preferred destination for Information Technology (IT) related manpower and industry.\n",
      "IIITM offers B Tech programmes in two disciplines, Computer Science and Engineering (CSE) and Electronics and Communication Engineering (ECE) from its transit campus located at Mantripukhri, Opposite of Software Technology Park, Near CRPF Camp in Imphal.\n",
      "The campus holds classrooms, labs, faculty rooms, seminar hall, play ground, faculty quarters, guest house and administrative offices.\n",
      "IIITM is one of the 20 IIITs set up by the Central Govt.\n",
      "A Bill (Act of Parliament) to declare all the PPP-IIITs (including IIITM) as Institutes of National Importance has been placed before the Lok Sabha.\n",
      "Classes are conveniently scheduled between 8 A.M. to 4:30 P. M. Every class room is well maintained and has projection facilities.\n",
      "IIITM is mentored by IIT Guwahati, Interim Director Prof. Amarendra Kumar Das is actively working and the transit complex is provided with all required infrastructure for overall development of the institute.\n",
      "IIITM is also looking for private/industry partner for the institute.\n",
      "of India mission of Act East and creating manufacturing hub in South East Asia.\n"
     ]
    }
   ],
   "source": [
    "for i in range(len(cover)):\n",
    "    print doc[cover[i]]\n",
    "    "
   ]
  },
  {
   "cell_type": "code",
   "execution_count": 39,
   "metadata": {},
   "outputs": [
    {
     "data": {
      "text/plain": [
       "[[u'information technology manipur',\n",
       "  u'indian institute',\n",
       "  u'mhrd',\n",
       "  u'institution',\n",
       "  u'iiitm',\n",
       "  u'govt'],\n",
       " [u'india'],\n",
       " [u'related manpower',\n",
       "  u'preferred destination',\n",
       "  u'information technology',\n",
       "  u'develop manipur',\n",
       "  u'order',\n",
       "  u'industry',\n",
       "  u'iiitm',\n",
       "  u'established',\n",
       "  u'2015'],\n",
       " [u'shall enable manipur',\n",
       "  u'related services',\n",
       "  u'quality research',\n",
       "  u'well',\n",
       "  u'providing',\n",
       "  u'high',\n",
       "  u'gear',\n",
       "  u'development'],\n",
       " [u'iiitm offers b tech programmes',\n",
       "  u'transit campus located',\n",
       "  u'software technology park',\n",
       "  u'near crpf camp',\n",
       "  u'two disciplines',\n",
       "  u'computer science',\n",
       "  u'communication engineering',\n",
       "  u'engineering',\n",
       "  u'opposite',\n",
       "  u'mantripukhri',\n",
       "  u'imphal',\n",
       "  u'electronics',\n",
       "  u'ece',\n",
       "  u'cse'],\n",
       " [u'campus holds classrooms',\n",
       "  u'seminar hall',\n",
       "  u'play ground',\n",
       "  u'guest house',\n",
       "  u'faculty rooms',\n",
       "  u'faculty quarters',\n",
       "  u'administrative offices',\n",
       "  u'labs'],\n",
       " [u'iiitm permanent campus',\n",
       "  u'senapati district',\n",
       "  u'ningthoupham village',\n",
       "  u'mayangkhang',\n",
       "  u'manipur',\n",
       "  u'come'],\n",
       " [u'20 iiits set', u'central govt', u'one', u'iiitm'],\n",
       " [u'ppp mode'],\n",
       " [u'national importance',\n",
       "  u'lok sabha',\n",
       "  u'including iiitm',\n",
       "  u'ppp',\n",
       "  u'placed',\n",
       "  u'parliament',\n",
       "  u'institutes',\n",
       "  u'iiits',\n",
       "  u'declare',\n",
       "  u'bill',\n",
       "  u'act'],\n",
       " [u'iiitm strives', u'every student', u'academic needs', u'attentive'],\n",
       " [u'every class room',\n",
       "  u'well maintained',\n",
       "  u'projection facilities',\n",
       "  u'conveniently scheduled',\n",
       "  u'30 p',\n",
       "  u'classes',\n",
       "  u'8',\n",
       "  u'4'],\n",
       " [u'fi system provides internet access throughout', u'wide wi', u'institute'],\n",
       " [u'interim director prof',\n",
       "  u'amarendra kumar das',\n",
       "  u'transit complex',\n",
       "  u'required infrastructure',\n",
       "  u'overall development',\n",
       "  u'iit guwahati',\n",
       "  u'actively working',\n",
       "  u'provided',\n",
       "  u'mentored',\n",
       "  u'institute',\n",
       "  u'iiitm'],\n",
       " [u'industry partner', u'also looking', u'private', u'institute', u'iiitm'],\n",
       " [u'start design',\n",
       "  u'positively contribute',\n",
       "  u'manufacturing disciplines',\n",
       "  u'also mandated',\n",
       "  u'govt'],\n",
       " [u'creating manufacturing hub',\n",
       "  u'south east asia',\n",
       "  u'act east',\n",
       "  u'india mission'],\n",
       " [u'providing required facilities',\n",
       "  u'human resource development',\n",
       "  u'neighboring countries',\n",
       "  u'lateral agreements',\n",
       "  u'study',\n",
       "  u'students',\n",
       "  u'spread',\n",
       "  u'opportunities',\n",
       "  u'myanmar',\n",
       "  u'looking',\n",
       "  u'iiitm',\n",
       "  u'education',\n",
       "  u'country',\n",
       "  u'contribute',\n",
       "  u'bi']]"
      ]
     },
     "execution_count": 39,
     "metadata": {},
     "output_type": "execute_result"
    }
   ],
   "source": [
    "keyw"
   ]
  },
  {
   "cell_type": "code",
   "execution_count": 41,
   "metadata": {},
   "outputs": [
    {
     "data": {
      "text/plain": [
       "[[u'information technology manipur',\n",
       "  u'indian institute',\n",
       "  u'mhrd',\n",
       "  u'institution',\n",
       "  u'iiitm',\n",
       "  u'govt'],\n",
       " [u'india'],\n",
       " [u'related manpower',\n",
       "  u'preferred destination',\n",
       "  u'information technology',\n",
       "  u'develop manipur',\n",
       "  u'order',\n",
       "  u'industry',\n",
       "  u'iiitm',\n",
       "  u'established',\n",
       "  u'2015'],\n",
       " [u'shall enable manipur',\n",
       "  u'related services',\n",
       "  u'quality research',\n",
       "  u'well',\n",
       "  u'providing',\n",
       "  u'high',\n",
       "  u'gear',\n",
       "  u'development'],\n",
       " [u'iiitm offers b tech programmes',\n",
       "  u'transit campus located',\n",
       "  u'software technology park',\n",
       "  u'near crpf camp',\n",
       "  u'two disciplines',\n",
       "  u'computer science',\n",
       "  u'communication engineering',\n",
       "  u'engineering',\n",
       "  u'opposite',\n",
       "  u'mantripukhri',\n",
       "  u'imphal',\n",
       "  u'electronics',\n",
       "  u'ece',\n",
       "  u'cse'],\n",
       " [u'campus holds classrooms',\n",
       "  u'seminar hall',\n",
       "  u'play ground',\n",
       "  u'guest house',\n",
       "  u'faculty rooms',\n",
       "  u'faculty quarters',\n",
       "  u'administrative offices',\n",
       "  u'labs'],\n",
       " [u'iiitm permanent campus',\n",
       "  u'senapati district',\n",
       "  u'ningthoupham village',\n",
       "  u'mayangkhang',\n",
       "  u'manipur',\n",
       "  u'come'],\n",
       " [u'20 iiits set', u'central govt', u'one', u'iiitm'],\n",
       " [u'ppp mode'],\n",
       " [u'national importance',\n",
       "  u'lok sabha',\n",
       "  u'including iiitm',\n",
       "  u'ppp',\n",
       "  u'placed',\n",
       "  u'parliament',\n",
       "  u'institutes',\n",
       "  u'iiits',\n",
       "  u'declare',\n",
       "  u'bill',\n",
       "  u'act'],\n",
       " [u'iiitm strives', u'every student', u'academic needs', u'attentive'],\n",
       " [u'every class room',\n",
       "  u'well maintained',\n",
       "  u'projection facilities',\n",
       "  u'conveniently scheduled',\n",
       "  u'30 p',\n",
       "  u'classes',\n",
       "  u'8',\n",
       "  u'4'],\n",
       " [u'fi system provides internet access throughout', u'wide wi', u'institute'],\n",
       " [u'interim director prof',\n",
       "  u'amarendra kumar das',\n",
       "  u'transit complex',\n",
       "  u'required infrastructure',\n",
       "  u'overall development',\n",
       "  u'iit guwahati',\n",
       "  u'actively working',\n",
       "  u'provided',\n",
       "  u'mentored',\n",
       "  u'institute',\n",
       "  u'iiitm'],\n",
       " [u'industry partner', u'also looking', u'private', u'institute', u'iiitm'],\n",
       " [u'start design',\n",
       "  u'positively contribute',\n",
       "  u'manufacturing disciplines',\n",
       "  u'also mandated',\n",
       "  u'govt'],\n",
       " [u'creating manufacturing hub',\n",
       "  u'south east asia',\n",
       "  u'act east',\n",
       "  u'india mission'],\n",
       " [u'providing required facilities',\n",
       "  u'human resource development',\n",
       "  u'neighboring countries',\n",
       "  u'lateral agreements',\n",
       "  u'study',\n",
       "  u'students',\n",
       "  u'spread',\n",
       "  u'opportunities',\n",
       "  u'myanmar',\n",
       "  u'looking',\n",
       "  u'iiitm',\n",
       "  u'education',\n",
       "  u'country',\n",
       "  u'contribute',\n",
       "  u'bi']]"
      ]
     },
     "execution_count": 41,
     "metadata": {},
     "output_type": "execute_result"
    }
   ],
   "source": [
    "keyw"
   ]
  },
  {
   "cell_type": "code",
   "execution_count": null,
   "metadata": {},
   "outputs": [],
   "source": []
  }
 ],
 "metadata": {
  "kernelspec": {
   "display_name": "Python 2",
   "language": "python",
   "name": "python2"
  },
  "language_info": {
   "codemirror_mode": {
    "name": "ipython",
    "version": 2
   },
   "file_extension": ".py",
   "mimetype": "text/x-python",
   "name": "python",
   "nbconvert_exporter": "python",
   "pygments_lexer": "ipython2",
   "version": "2.7.15rc1"
  }
 },
 "nbformat": 4,
 "nbformat_minor": 2
}
